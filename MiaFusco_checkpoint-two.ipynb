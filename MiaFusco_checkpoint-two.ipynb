{
 "cells": [
  {
   "attachments": {},
   "cell_type": "markdown",
   "metadata": {
    "azdata_cell_guid": "151601c9-ca7a-412e-af80-c62a87e0837e"
   },
   "source": [
    "# Checkpoint Two: Exploratory Data Analysis\n",
    "\n",
    "Now that your chosen dataset is approved, it is time to start working on your analysis. Use this notebook to perform your EDA and make notes where directed to as you work.\n",
    "\n",
    "## Getting Started\n",
    "\n",
    "Since we have not provided your dataset for you, you will need to load the necessary files in this repository. Make sure to include a link back to the original dataset here as well.\n",
    "\n",
    "My dataset: https://www.kaggle.com/datasets/innocentmfa/students-health-and-academic-performance?resource=download&select=Impact_of_Mobile_Phone_on_Students_Health.csv\n",
    "\n",
    "Your first task in EDA is to import necessary libraries and create a dataframe(s). Make note in the form of code comments of what your thought process is as you work on this setup task."
   ]
  },
  {
   "cell_type": "code",
   "execution_count": 7,
   "metadata": {
    "azdata_cell_guid": "7b503e37-6df5-4433-acfb-678b1346db14"
   },
   "outputs": [
    {
     "name": "stdout",
     "output_type": "stream",
     "text": [
      "Index(['Names', 'Age', 'Gender ', 'Mobile Phone ', 'Mobile Operating System ',\n",
      "       'Mobile phone use for education', 'Mobile phone activities',\n",
      "       'Helpful for studying', 'Educational Apps', 'Daily usages',\n",
      "       'Performance impact', 'Usage distraction', 'Attention span',\n",
      "       'Useful features', 'Health Risks', 'Beneficial subject',\n",
      "       'Usage symptoms', 'Symptom frequency', 'Health precautions',\n",
      "       'Health rating'],\n",
      "      dtype='object')\n",
      "Names                             object\n",
      "Age                               object\n",
      "Gender                            object\n",
      "Mobile Phone                      object\n",
      "Mobile Operating System           object\n",
      "Mobile phone use for education    object\n",
      "Mobile phone activities           object\n",
      "Helpful for studying              object\n",
      "Educational Apps                  object\n",
      "Daily usages                      object\n",
      "Performance impact                object\n",
      "Usage distraction                 object\n",
      "Attention span                    object\n",
      "Useful features                   object\n",
      "Health Risks                      object\n",
      "Beneficial subject                object\n",
      "Usage symptoms                    object\n",
      "Symptom frequency                 object\n",
      "Health precautions                object\n",
      "Health rating                     object\n",
      "dtype: object\n"
     ]
    }
   ],
   "source": [
    "import pandas as pd\n",
    "import matplotlib.pyplot as plt\n",
    "import seaborn as sns\n",
    "\n",
    "dataframe = pd.read_csv(\"/Users/miafusco/Documents/LaunchCode/data-analysis-projects2/eda-checkpoint/Impact_of_Mobile_Phone_on_Students_Health 2.csv\")\n",
    "dataframe = pd.DataFrame(dataframe)\n",
    "#I am creating the dataframe from my csv file. \n",
    "\n",
    "print(dataframe.columns)\n",
    "#This will show me the names of the columns.   \n",
    "\n",
    "print(dataframe.dtypes)\n",
    "#This will show me the data type (i.e. string or int). All columns are listed as object meaning they are all likely string values)\n"
   ]
  },
  {
   "attachments": {},
   "cell_type": "markdown",
   "metadata": {
    "azdata_cell_guid": "129ce836-524b-4ea8-b394-a959f9308d6a"
   },
   "source": [
    "## Get to Know the Columns\n",
    "\n",
    "*Names (string): Student names are listed.\n",
    "*Age (string): Age of each student is listed by group (ex. 16-20)\n",
    "*Mobile Phone (string): Students answered yes or no if they had a mobile phone.\n",
    "*Mobile Operating System (string): Identifies which operating system they are using on their mobile phone (Android or IOS)\n",
    "*Mobile Phone Use for Education (string): Students used a likert scale to identify how frequently they used their phones for educational purposes.\n",
    "*Mobile Phone Activities (string): Students use multiple choice options to select which activities they most often used their mobile device. \n",
    "*Helpful for Studying (string): Students responded yes or no if their mobile device was beneficial for studying.\n",
    "*Educational Apps (string): Students selected which educational apps they most often used on their mobile device (i.e. educational videos, study planner, etc.)\n",
    "*Daily Usage (string): Students self-identified their daily usage (in hours) of their mobile devices (i.e. 2-4 hours, 4-6 hours, >6 hours, etc.)\n",
    "*Performance Impact (string): Students self-identified using a likert scale the impact their daily usage has on their performance level.\n",
    "*Usage Distraction (string): Students selected the areas in which their mobile device usage became a distraction (i.e. not distracting, during exams, during lectures, etc.)\n",
    "*Attention Span (string): Students responded yes or no whether their mobile device has impacted their attention span. \n",
    "*Useful Features (string): Students selected which features on their mobile device they found most useful (i.e. camera, internet access, note taking, etc.)\n",
    "*Health Risks (string): Students respond yes, no or partially to their awareness of potential health risks. \n",
    "*Beneficial Subject (string): Students report which subjects benefit the most from cell phone access and use. \n",
    "*Usage Symptoms (string): Students self-reported from a selection of options which symptoms they experience due to their mobile device usage (i.e. sleep disturbance, headache, anxiety, etc.)\n",
    "*Symptom Frequency (string): Student self-reported using a likert scale how often they experience the symptoms they previously selected due to their mobile device usage. \n",
    "*Health Precautions (string): Students selected which health precautions they used to maintain or improve their overall health while using their mobile device (i.e. limiting screen time). \n",
    "*Health Rating (string): Students self-indicated using a likert scale their opinion of their overall health.\n",
    "\n",
    "\n",
    "\n"
   ]
  },
  {
   "attachments": {},
   "cell_type": "markdown",
   "metadata": {
    "azdata_cell_guid": "129ce836-524b-4ea8-b394-a959f9308d6a"
   },
   "source": [
    "## Get to Know the Numbers\n",
    "\n",
    "Now that you have everything setup, put any code that you use to get to know the dataframe and its rows and columns better in the cell below. You can use whatever techniques you like, except for visualizations. You will put those in a separate section.\n",
    "\n",
    "When working on your code, make sure to leave comments so that your mentors can understand your thought process."
   ]
  },
  {
   "cell_type": "code",
   "execution_count": 30,
   "metadata": {},
   "outputs": [
    {
     "name": "stdout",
     "output_type": "stream",
     "text": [
      "<class 'pandas.core.frame.DataFrame'>\n",
      "RangeIndex: 100 entries, 0 to 99\n",
      "Data columns (total 20 columns):\n",
      " #   Column                          Non-Null Count  Dtype \n",
      "---  ------                          --------------  ----- \n",
      " 0   Names                           100 non-null    object\n",
      " 1   Age                             100 non-null    object\n",
      " 2   Gender                          100 non-null    object\n",
      " 3   Mobile Phone                    100 non-null    object\n",
      " 4   Mobile Operating System         100 non-null    object\n",
      " 5   Mobile phone use for education  98 non-null     object\n",
      " 6   Mobile phone activities         99 non-null     object\n",
      " 7   Helpful for studying            98 non-null     object\n",
      " 8   Educational Apps                98 non-null     object\n",
      " 9   Daily usages                    99 non-null     object\n",
      " 10  Performance impact              98 non-null     object\n",
      " 11  Usage distraction               98 non-null     object\n",
      " 12  Attention span                  99 non-null     object\n",
      " 13  Useful features                 98 non-null     object\n",
      " 14  Health Risks                    98 non-null     object\n",
      " 15  Beneficial subject              99 non-null     object\n",
      " 16  Usage symptoms                  98 non-null     object\n",
      " 17  Symptom frequency               99 non-null     object\n",
      " 18  Health precautions              99 non-null     object\n",
      " 19  Health rating                   99 non-null     object\n",
      "dtypes: object(20)\n",
      "memory usage: 15.8+ KB\n"
     ]
    }
   ],
   "source": [
    "dataframe.info()\n",
    "#There are a total of 20 columns in this dataset and 100 entries (rows). "
   ]
  },
  {
   "cell_type": "code",
   "execution_count": 31,
   "metadata": {},
   "outputs": [
    {
     "data": {
      "text/plain": [
       "(100, 20)"
      ]
     },
     "execution_count": 31,
     "metadata": {},
     "output_type": "execute_result"
    }
   ],
   "source": [
    "dataframe.shape\n",
    "#(100,20)\n",
    "#The shape lets the analyst knows how many rows and columns in that order. "
   ]
  },
  {
   "cell_type": "code",
   "execution_count": 32,
   "metadata": {},
   "outputs": [
    {
     "data": {
      "text/html": [
       "<div>\n",
       "<style scoped>\n",
       "    .dataframe tbody tr th:only-of-type {\n",
       "        vertical-align: middle;\n",
       "    }\n",
       "\n",
       "    .dataframe tbody tr th {\n",
       "        vertical-align: top;\n",
       "    }\n",
       "\n",
       "    .dataframe thead th {\n",
       "        text-align: right;\n",
       "    }\n",
       "</style>\n",
       "<table border=\"1\" class=\"dataframe\">\n",
       "  <thead>\n",
       "    <tr style=\"text-align: right;\">\n",
       "      <th></th>\n",
       "      <th>Names</th>\n",
       "      <th>Age</th>\n",
       "      <th>Gender</th>\n",
       "      <th>Mobile Phone</th>\n",
       "      <th>Mobile Operating System</th>\n",
       "      <th>Mobile phone use for education</th>\n",
       "      <th>Mobile phone activities</th>\n",
       "      <th>Helpful for studying</th>\n",
       "      <th>Educational Apps</th>\n",
       "      <th>Daily usages</th>\n",
       "      <th>Performance impact</th>\n",
       "      <th>Usage distraction</th>\n",
       "      <th>Attention span</th>\n",
       "      <th>Useful features</th>\n",
       "      <th>Health Risks</th>\n",
       "      <th>Beneficial subject</th>\n",
       "      <th>Usage symptoms</th>\n",
       "      <th>Symptom frequency</th>\n",
       "      <th>Health precautions</th>\n",
       "      <th>Health rating</th>\n",
       "    </tr>\n",
       "  </thead>\n",
       "  <tbody>\n",
       "    <tr>\n",
       "      <th>count</th>\n",
       "      <td>100</td>\n",
       "      <td>100</td>\n",
       "      <td>100</td>\n",
       "      <td>100</td>\n",
       "      <td>100</td>\n",
       "      <td>98</td>\n",
       "      <td>99</td>\n",
       "      <td>98</td>\n",
       "      <td>98</td>\n",
       "      <td>99</td>\n",
       "      <td>98</td>\n",
       "      <td>98</td>\n",
       "      <td>99</td>\n",
       "      <td>98</td>\n",
       "      <td>98</td>\n",
       "      <td>99</td>\n",
       "      <td>98</td>\n",
       "      <td>99</td>\n",
       "      <td>99</td>\n",
       "      <td>99</td>\n",
       "    </tr>\n",
       "    <tr>\n",
       "      <th>unique</th>\n",
       "      <td>100</td>\n",
       "      <td>4</td>\n",
       "      <td>2</td>\n",
       "      <td>1</td>\n",
       "      <td>2</td>\n",
       "      <td>4</td>\n",
       "      <td>7</td>\n",
       "      <td>2</td>\n",
       "      <td>4</td>\n",
       "      <td>4</td>\n",
       "      <td>5</td>\n",
       "      <td>4</td>\n",
       "      <td>2</td>\n",
       "      <td>4</td>\n",
       "      <td>3</td>\n",
       "      <td>3</td>\n",
       "      <td>6</td>\n",
       "      <td>4</td>\n",
       "      <td>4</td>\n",
       "      <td>7</td>\n",
       "    </tr>\n",
       "    <tr>\n",
       "      <th>top</th>\n",
       "      <td>Ali</td>\n",
       "      <td>21-25</td>\n",
       "      <td>Male</td>\n",
       "      <td>Yes</td>\n",
       "      <td>Android</td>\n",
       "      <td>Sometimes</td>\n",
       "      <td>All of these</td>\n",
       "      <td>Yes</td>\n",
       "      <td>Educational Videos</td>\n",
       "      <td>4-6 hours</td>\n",
       "      <td>Agree</td>\n",
       "      <td>While Studying</td>\n",
       "      <td>Yes</td>\n",
       "      <td>Internet Access</td>\n",
       "      <td>Yes</td>\n",
       "      <td>Reasarch</td>\n",
       "      <td>All of these</td>\n",
       "      <td>Sometimes</td>\n",
       "      <td>Limiting Screen Time</td>\n",
       "      <td>Good</td>\n",
       "    </tr>\n",
       "    <tr>\n",
       "      <th>freq</th>\n",
       "      <td>1</td>\n",
       "      <td>72</td>\n",
       "      <td>81</td>\n",
       "      <td>100</td>\n",
       "      <td>81</td>\n",
       "      <td>53</td>\n",
       "      <td>59</td>\n",
       "      <td>94</td>\n",
       "      <td>54</td>\n",
       "      <td>40</td>\n",
       "      <td>40</td>\n",
       "      <td>34</td>\n",
       "      <td>70</td>\n",
       "      <td>70</td>\n",
       "      <td>57</td>\n",
       "      <td>48</td>\n",
       "      <td>32</td>\n",
       "      <td>52</td>\n",
       "      <td>35</td>\n",
       "      <td>42</td>\n",
       "    </tr>\n",
       "  </tbody>\n",
       "</table>\n",
       "</div>"
      ],
      "text/plain": [
       "       Names    Age Gender  Mobile Phone  Mobile Operating System   \\\n",
       "count    100    100     100           100                      100   \n",
       "unique   100      4       2             1                        2   \n",
       "top      Ali  21-25    Male           Yes                  Android   \n",
       "freq       1     72      81           100                       81   \n",
       "\n",
       "       Mobile phone use for education Mobile phone activities  \\\n",
       "count                              98                      99   \n",
       "unique                              4                       7   \n",
       "top                         Sometimes            All of these   \n",
       "freq                               53                      59   \n",
       "\n",
       "       Helpful for studying    Educational Apps Daily usages  \\\n",
       "count                    98                  98           99   \n",
       "unique                    2                   4            4   \n",
       "top                     Yes  Educational Videos    4-6 hours   \n",
       "freq                     94                  54           40   \n",
       "\n",
       "       Performance impact Usage distraction Attention span  Useful features  \\\n",
       "count                  98                98             99               98   \n",
       "unique                  5                 4              2                4   \n",
       "top                 Agree    While Studying            Yes  Internet Access   \n",
       "freq                   40                34             70               70   \n",
       "\n",
       "       Health Risks Beneficial subject Usage symptoms Symptom frequency  \\\n",
       "count            98                 99             98                99   \n",
       "unique            3                  3              6                 4   \n",
       "top             Yes           Reasarch   All of these         Sometimes   \n",
       "freq             57                 48             32                52   \n",
       "\n",
       "          Health precautions Health rating  \n",
       "count                     99            99  \n",
       "unique                     4             7  \n",
       "top     Limiting Screen Time          Good  \n",
       "freq                      35            42  "
      ]
     },
     "execution_count": 32,
     "metadata": {},
     "output_type": "execute_result"
    }
   ],
   "source": [
    "dataframe.describe()\n",
    "#Using describe allows the analyst to see descriptive statistics which can include mean and standard deviation. These descriptive statistics shows the count, unique responses, and top response."
   ]
  },
  {
   "cell_type": "code",
   "execution_count": 33,
   "metadata": {},
   "outputs": [
    {
     "data": {
      "text/html": [
       "<div>\n",
       "<style scoped>\n",
       "    .dataframe tbody tr th:only-of-type {\n",
       "        vertical-align: middle;\n",
       "    }\n",
       "\n",
       "    .dataframe tbody tr th {\n",
       "        vertical-align: top;\n",
       "    }\n",
       "\n",
       "    .dataframe thead th {\n",
       "        text-align: right;\n",
       "    }\n",
       "</style>\n",
       "<table border=\"1\" class=\"dataframe\">\n",
       "  <thead>\n",
       "    <tr style=\"text-align: right;\">\n",
       "      <th></th>\n",
       "      <th>Names</th>\n",
       "      <th>Age</th>\n",
       "      <th>Gender</th>\n",
       "      <th>Mobile Phone</th>\n",
       "      <th>Mobile Operating System</th>\n",
       "      <th>Mobile phone use for education</th>\n",
       "      <th>Mobile phone activities</th>\n",
       "      <th>Helpful for studying</th>\n",
       "      <th>Educational Apps</th>\n",
       "      <th>Daily usages</th>\n",
       "      <th>Performance impact</th>\n",
       "      <th>Usage distraction</th>\n",
       "      <th>Attention span</th>\n",
       "      <th>Useful features</th>\n",
       "      <th>Health Risks</th>\n",
       "      <th>Beneficial subject</th>\n",
       "      <th>Usage symptoms</th>\n",
       "      <th>Symptom frequency</th>\n",
       "      <th>Health precautions</th>\n",
       "      <th>Health rating</th>\n",
       "    </tr>\n",
       "  </thead>\n",
       "  <tbody>\n",
       "    <tr>\n",
       "      <th>0</th>\n",
       "      <td>Ali</td>\n",
       "      <td>21-25</td>\n",
       "      <td>Male</td>\n",
       "      <td>Yes</td>\n",
       "      <td>Android</td>\n",
       "      <td>Sometimes</td>\n",
       "      <td>Social Media</td>\n",
       "      <td>Yes</td>\n",
       "      <td>Educational Videos</td>\n",
       "      <td>4-6 hours</td>\n",
       "      <td>Agree</td>\n",
       "      <td>During Exams</td>\n",
       "      <td>Yes</td>\n",
       "      <td>Camera</td>\n",
       "      <td>Yes</td>\n",
       "      <td>Accounting</td>\n",
       "      <td>Headache</td>\n",
       "      <td>Never</td>\n",
       "      <td>Using Blue light filter</td>\n",
       "      <td>Excellent</td>\n",
       "    </tr>\n",
       "    <tr>\n",
       "      <th>1</th>\n",
       "      <td>Bilal</td>\n",
       "      <td>21-25</td>\n",
       "      <td>Male</td>\n",
       "      <td>Yes</td>\n",
       "      <td>Android</td>\n",
       "      <td>Sometimes</td>\n",
       "      <td>Social Media</td>\n",
       "      <td>Yes</td>\n",
       "      <td>Educational Videos</td>\n",
       "      <td>4-6 hours</td>\n",
       "      <td>Neutral</td>\n",
       "      <td>During Exams</td>\n",
       "      <td>Yes</td>\n",
       "      <td>Notes Taking App</td>\n",
       "      <td>Yes</td>\n",
       "      <td>Browsing Material</td>\n",
       "      <td>All of these</td>\n",
       "      <td>Sometimes</td>\n",
       "      <td>Taking Break during prolonged use</td>\n",
       "      <td>Good</td>\n",
       "    </tr>\n",
       "    <tr>\n",
       "      <th>2</th>\n",
       "      <td>Hammad</td>\n",
       "      <td>21-25</td>\n",
       "      <td>Male</td>\n",
       "      <td>Yes</td>\n",
       "      <td>IOS</td>\n",
       "      <td>Sometimes</td>\n",
       "      <td>All of these</td>\n",
       "      <td>Yes</td>\n",
       "      <td>Educational Videos</td>\n",
       "      <td>4-6 hours</td>\n",
       "      <td>Strongly agree</td>\n",
       "      <td>Not Distracting</td>\n",
       "      <td>No</td>\n",
       "      <td>Camera</td>\n",
       "      <td>Yes</td>\n",
       "      <td>Browsing Material</td>\n",
       "      <td>All of these</td>\n",
       "      <td>Sometimes</td>\n",
       "      <td>None of Above</td>\n",
       "      <td>Excellent</td>\n",
       "    </tr>\n",
       "    <tr>\n",
       "      <th>3</th>\n",
       "      <td>Abdullah</td>\n",
       "      <td>21-25</td>\n",
       "      <td>Male</td>\n",
       "      <td>Yes</td>\n",
       "      <td>Android</td>\n",
       "      <td>Frequently</td>\n",
       "      <td>All of these</td>\n",
       "      <td>Yes</td>\n",
       "      <td>Educational Videos</td>\n",
       "      <td>2-4 hours</td>\n",
       "      <td>Strongly agree</td>\n",
       "      <td>During Class Lectures</td>\n",
       "      <td>No</td>\n",
       "      <td>Internet Access</td>\n",
       "      <td>Only Partially</td>\n",
       "      <td>Reasarch</td>\n",
       "      <td>NaN</td>\n",
       "      <td>Never</td>\n",
       "      <td>Limiting Screen Time</td>\n",
       "      <td>Excellent</td>\n",
       "    </tr>\n",
       "    <tr>\n",
       "      <th>4</th>\n",
       "      <td>Waqar</td>\n",
       "      <td>21-25</td>\n",
       "      <td>Male</td>\n",
       "      <td>Yes</td>\n",
       "      <td>IOS</td>\n",
       "      <td>Frequently</td>\n",
       "      <td>All of these</td>\n",
       "      <td>Yes</td>\n",
       "      <td>Educational Videos</td>\n",
       "      <td>&gt; 6 hours</td>\n",
       "      <td>Agree</td>\n",
       "      <td>While Studying</td>\n",
       "      <td>Yes</td>\n",
       "      <td>Internet Access</td>\n",
       "      <td>No</td>\n",
       "      <td>Browsing Material</td>\n",
       "      <td>Sleep disturbance</td>\n",
       "      <td>Sometimes</td>\n",
       "      <td>None of Above</td>\n",
       "      <td>Excellent</td>\n",
       "    </tr>\n",
       "  </tbody>\n",
       "</table>\n",
       "</div>"
      ],
      "text/plain": [
       "      Names    Age Gender  Mobile Phone  Mobile Operating System   \\\n",
       "0       Ali  21-25    Male           Yes                  Android   \n",
       "1     Bilal  21-25    Male           Yes                  Android   \n",
       "2    Hammad  21-25    Male           Yes                      IOS   \n",
       "3  Abdullah  21-25    Male           Yes                  Android   \n",
       "4     Waqar  21-25    Male           Yes                      IOS   \n",
       "\n",
       "  Mobile phone use for education Mobile phone activities Helpful for studying  \\\n",
       "0                      Sometimes            Social Media                  Yes   \n",
       "1                      Sometimes            Social Media                  Yes   \n",
       "2                      Sometimes            All of these                  Yes   \n",
       "3                     Frequently            All of these                  Yes   \n",
       "4                     Frequently            All of these                  Yes   \n",
       "\n",
       "     Educational Apps Daily usages Performance impact      Usage distraction  \\\n",
       "0  Educational Videos    4-6 hours              Agree           During Exams   \n",
       "1  Educational Videos    4-6 hours            Neutral           During Exams   \n",
       "2  Educational Videos    4-6 hours     Strongly agree        Not Distracting   \n",
       "3  Educational Videos    2-4 hours     Strongly agree  During Class Lectures   \n",
       "4  Educational Videos    > 6 hours              Agree         While Studying   \n",
       "\n",
       "  Attention span   Useful features    Health Risks Beneficial subject  \\\n",
       "0            Yes            Camera             Yes         Accounting   \n",
       "1            Yes  Notes Taking App             Yes  Browsing Material   \n",
       "2             No            Camera             Yes  Browsing Material   \n",
       "3             No   Internet Access  Only Partially           Reasarch   \n",
       "4            Yes   Internet Access              No  Browsing Material   \n",
       "\n",
       "      Usage symptoms Symptom frequency                 Health precautions  \\\n",
       "0           Headache             Never            Using Blue light filter   \n",
       "1       All of these         Sometimes  Taking Break during prolonged use   \n",
       "2       All of these         Sometimes                      None of Above   \n",
       "3                NaN             Never               Limiting Screen Time   \n",
       "4  Sleep disturbance         Sometimes                      None of Above   \n",
       "\n",
       "  Health rating  \n",
       "0     Excellent  \n",
       "1          Good  \n",
       "2     Excellent  \n",
       "3     Excellent  \n",
       "4     Excellent  "
      ]
     },
     "execution_count": 33,
     "metadata": {},
     "output_type": "execute_result"
    }
   ],
   "source": [
    "dataframe.head()\n",
    "#Head will show me a quick snapshot of my dataset. "
   ]
  },
  {
   "cell_type": "code",
   "execution_count": 34,
   "metadata": {},
   "outputs": [
    {
     "data": {
      "text/plain": [
       "Names                             0\n",
       "Age                               0\n",
       "Gender                            0\n",
       "Mobile Phone                      0\n",
       "Mobile Operating System           0\n",
       "Mobile phone use for education    2\n",
       "Mobile phone activities           1\n",
       "Helpful for studying              2\n",
       "Educational Apps                  2\n",
       "Daily usages                      1\n",
       "Performance impact                2\n",
       "Usage distraction                 2\n",
       "Attention span                    1\n",
       "Useful features                   2\n",
       "Health Risks                      2\n",
       "Beneficial subject                1\n",
       "Usage symptoms                    2\n",
       "Symptom frequency                 1\n",
       "Health precautions                1\n",
       "Health rating                     1\n",
       "dtype: int64"
      ]
     },
     "execution_count": 34,
     "metadata": {},
     "output_type": "execute_result"
    }
   ],
   "source": [
    "dataframe.isnull().sum()\n",
    "#This will allow me to see the amount of null values in my dataset. "
   ]
  },
  {
   "cell_type": "code",
   "execution_count": 35,
   "metadata": {},
   "outputs": [
    {
     "data": {
      "text/plain": [
       "count       100\n",
       "unique        4\n",
       "top       21-25\n",
       "freq         72\n",
       "Name: Age, dtype: object"
      ]
     },
     "execution_count": 35,
     "metadata": {},
     "output_type": "execute_result"
    }
   ],
   "source": [
    "dataframe['Age'].describe()\n",
    "#There are 100 entries for age with 4 unique age groups. The top age group is 21-25. "
   ]
  },
  {
   "cell_type": "code",
   "execution_count": 27,
   "metadata": {
    "azdata_cell_guid": "0ca2d318-f6e8-43ef-a33e-5304d24d928d",
    "tags": []
   },
   "outputs": [
    {
     "name": "stdout",
     "output_type": "stream",
     "text": [
      "31-35\n",
      "16-20\n"
     ]
    }
   ],
   "source": [
    "age_check_max = dataframe[\"Age\"].agg(\"max\")\n",
    "print(age_check_max)\n",
    "#The oldest age group is 31-35 year olds. \n",
    "\n",
    "age_check_min = dataframe[\"Age\"].agg(\"min\")\n",
    "print(age_check_min)\n",
    "#The youngest age group is 16-20 year olds. "
   ]
  },
  {
   "cell_type": "code",
   "execution_count": 36,
   "metadata": {},
   "outputs": [
    {
     "data": {
      "text/plain": [
       "count         100\n",
       "unique          2\n",
       "top       Android\n",
       "freq           81\n",
       "Name: Mobile Operating System , dtype: object"
      ]
     },
     "execution_count": 36,
     "metadata": {},
     "output_type": "execute_result"
    }
   ],
   "source": [
    "dataframe['Mobile Operating System '].describe()\n",
    "#There are 100 entries for mobile operating system with 2 unique values. The top value is Android. "
   ]
  },
  {
   "cell_type": "code",
   "execution_count": 14,
   "metadata": {},
   "outputs": [
    {
     "name": "stdout",
     "output_type": "stream",
     "text": [
      "<bound method Series.unique of 0     Android\n",
      "1     Android\n",
      "2         IOS\n",
      "3     Android\n",
      "4         IOS\n",
      "       ...   \n",
      "95        IOS\n",
      "96    Android\n",
      "97    Android\n",
      "98    Android\n",
      "99    Android\n",
      "Name: Mobile Operating System , Length: 100, dtype: object>\n",
      "<bound method IndexOpsMixin.nunique of 0     Android\n",
      "1     Android\n",
      "2         IOS\n",
      "3     Android\n",
      "4         IOS\n",
      "       ...   \n",
      "95        IOS\n",
      "96    Android\n",
      "97    Android\n",
      "98    Android\n",
      "99    Android\n",
      "Name: Mobile Operating System , Length: 100, dtype: object>\n"
     ]
    }
   ],
   "source": [
    "device_type = dataframe[\"Mobile Operating System \"].unique \n",
    "print(device_type)\n",
    "#The two unique values for mobile operating system are IOS and Android. "
   ]
  },
  {
   "cell_type": "code",
   "execution_count": 38,
   "metadata": {},
   "outputs": [
    {
     "data": {
      "text/plain": [
       "count      100\n",
       "unique       2\n",
       "top       Male\n",
       "freq        81\n",
       "Name: Gender , dtype: object"
      ]
     },
     "execution_count": 38,
     "metadata": {},
     "output_type": "execute_result"
    }
   ],
   "source": [
    "dataframe['Gender '].describe()\n",
    "#There are 100 entries for gender with 2 unique values. The most frequent value being male. "
   ]
  },
  {
   "cell_type": "code",
   "execution_count": 10,
   "metadata": {},
   "outputs": [
    {
     "data": {
      "text/plain": [
       "Gender \n",
       "Male      81\n",
       "Female    19\n",
       "Name: count, dtype: int64"
      ]
     },
     "execution_count": 10,
     "metadata": {},
     "output_type": "execute_result"
    }
   ],
   "source": [
    "dataframe['Gender '].value_counts()\n",
    "#This provides a comparison of respondents that identify as male verus those that identify as female. "
   ]
  },
  {
   "cell_type": "code",
   "execution_count": 42,
   "metadata": {},
   "outputs": [
    {
     "data": {
      "text/plain": [
       "count            99\n",
       "unique            4\n",
       "top       4-6 hours\n",
       "freq             40\n",
       "Name: Daily usages, dtype: object"
      ]
     },
     "execution_count": 42,
     "metadata": {},
     "output_type": "execute_result"
    }
   ],
   "source": [
    "dataframe['Daily usages'].describe()\n",
    "#There are 100 entries for daily usages with 4 unique values. The most frequent selection is 4-6 hours. "
   ]
  },
  {
   "cell_type": "code",
   "execution_count": 6,
   "metadata": {},
   "outputs": [
    {
     "data": {
      "text/plain": [
       "Daily usages\n",
       "4-6 hours    40\n",
       "2-4 hours    27\n",
       "> 6 hours    25\n",
       "< 2 hours     7\n",
       "Name: count, dtype: int64"
      ]
     },
     "execution_count": 6,
     "metadata": {},
     "output_type": "execute_result"
    }
   ],
   "source": [
    "dataframe['Daily usages'].value_counts()\n",
    "#Value counts will show me how many students selected each response. "
   ]
  },
  {
   "cell_type": "code",
   "execution_count": 61,
   "metadata": {},
   "outputs": [
    {
     "data": {
      "text/plain": [
       "count            99\n",
       "unique            4\n",
       "top       Sometimes\n",
       "freq             52\n",
       "Name: Symptom frequency, dtype: object"
      ]
     },
     "execution_count": 61,
     "metadata": {},
     "output_type": "execute_result"
    }
   ],
   "source": [
    "dataframe['Symptom frequency'].describe()\n",
    "#Using describe will show me the number of responses, the amount of unique values, the top selection, and how many times the top selection was made. "
   ]
  },
  {
   "cell_type": "code",
   "execution_count": 4,
   "metadata": {},
   "outputs": [
    {
     "data": {
      "text/plain": [
       "Symptom frequency\n",
       "Sometimes     52\n",
       "Rarely        21\n",
       "Never         17\n",
       "Frequently     9\n",
       "Name: count, dtype: int64"
      ]
     },
     "execution_count": 4,
     "metadata": {},
     "output_type": "execute_result"
    }
   ],
   "source": [
    "dataframe['Symptom frequency'].value_counts()\n",
    "#Value counts will show me how many students selected each response."
   ]
  },
  {
   "cell_type": "code",
   "execution_count": 53,
   "metadata": {},
   "outputs": [
    {
     "data": {
      "text/plain": [
       "array(['Headache', 'All of these', nan, 'Sleep disturbance',\n",
       "       'Anxiety or Stress', 'Sleep disturbance;Anxiety or Stress',\n",
       "       'Headache;Sleep disturbance;Anxiety or Stress;All of these'],\n",
       "      dtype=object)"
      ]
     },
     "execution_count": 53,
     "metadata": {},
     "output_type": "execute_result"
    }
   ],
   "source": [
    "dataframe['Usage symptoms'].describe()\n",
    "dataframe['Usage symptoms'].unique()\n",
    "#Describe will show me the number of responses, the amount of unique values, the top selection, and how many times the top selection was made.\n",
    "#Unique will show me the the 'usage symptoms' selections that studenst are able to choose. "
   ]
  },
  {
   "cell_type": "code",
   "execution_count": 8,
   "metadata": {},
   "outputs": [
    {
     "data": {
      "text/plain": [
       "Usage symptoms\n",
       "All of these                                                 32\n",
       "Sleep disturbance                                            26\n",
       "Headache                                                     23\n",
       "Anxiety or Stress                                            12\n",
       "Sleep disturbance;Anxiety or Stress                           4\n",
       "Headache;Sleep disturbance;Anxiety or Stress;All of these     1\n",
       "Name: count, dtype: int64"
      ]
     },
     "execution_count": 8,
     "metadata": {},
     "output_type": "execute_result"
    }
   ],
   "source": [
    "dataframe['Usage symptoms'].value_counts()\n",
    "#Value counts will show me how many students selected each symptom. "
   ]
  },
  {
   "cell_type": "code",
   "execution_count": 62,
   "metadata": {},
   "outputs": [
    {
     "data": {
      "text/plain": [
       "array(['Camera', 'Notes Taking App', 'Internet Access', 'Calculator', nan],\n",
       "      dtype=object)"
      ]
     },
     "execution_count": 62,
     "metadata": {},
     "output_type": "execute_result"
    }
   ],
   "source": [
    "dataframe['Useful features'].unique()\n",
    "#Unique will show me the options for 'useful features'. "
   ]
  },
  {
   "cell_type": "code",
   "execution_count": 63,
   "metadata": {},
   "outputs": [
    {
     "data": {
      "text/plain": [
       "count                  98\n",
       "unique                  4\n",
       "top       Internet Access\n",
       "freq                   70\n",
       "Name: Useful features, dtype: object"
      ]
     },
     "execution_count": 63,
     "metadata": {},
     "output_type": "execute_result"
    }
   ],
   "source": [
    "dataframe['Useful features'].describe()\n",
    "#Describe will show me the total number of responses, the count of selection options, the top selection and how many times it was selected. "
   ]
  },
  {
   "attachments": {},
   "cell_type": "markdown",
   "metadata": {
    "azdata_cell_guid": "d45060f3-97bc-484a-9ef4-66145bbe9427"
   },
   "source": [
    "## Visualize\n",
    "\n",
    "Create any visualizations for your EDA here. Make note in the form of code comments of what your thought process is for your visualizations."
   ]
  },
  {
   "cell_type": "code",
   "execution_count": 9,
   "metadata": {},
   "outputs": [
    {
     "data": {
      "image/png": "[encoded data removed]",
      "text/plain": [
       "<Figure size 640x480 with 1 Axes>"
      ]
     },
     "metadata": {},
     "output_type": "display_data"
    }
   ],
   "source": [
    "daily_usage = dataframe['Daily usages'].value_counts()\n",
    "\n",
    "daily_usage.plot(kind='bar', color='green')\n",
    "\n",
    "plt.title('Daily Usage')\n",
    "plt.xlabel('Daily Usage in Hours')\n",
    "plt.ylabel('Self-Reported Hours')\n",
    "\n",
    "plt.show()\n",
    "#I wanted to show the amount of responses from students regarding how much time they spent using their mobile devices. Most respondents reported spending 4-6 hours on their mobile device."
   ]
  },
  {
   "cell_type": "code",
   "execution_count": 49,
   "metadata": {},
   "outputs": [
    {
     "data": {
      "image/png": "[encoded data removed]",
      "text/plain": [
       "<Figure size 640x480 with 1 Axes>"
      ]
     },
     "metadata": {},
     "output_type": "display_data"
    }
   ],
   "source": [
    "symptom_frequency = dataframe['Symptom frequency'].value_counts()\n",
    "\n",
    "symptom_frequency.plot(kind='bar', color='pink')\n",
    "\n",
    "plt.title('Symptom Frequency')\n",
    "plt.xlabel('Symptom Frequency')\n",
    "plt.ylabel('Count of Responses')\n",
    "\n",
    "plt.show()\n",
    "#I wanted to show the frequency of self-reported symptoms. The most common response is sometimes. "
   ]
  },
  {
   "cell_type": "code",
   "execution_count": null,
   "metadata": {},
   "outputs": [],
   "source": []
  },
  {
   "cell_type": "markdown",
   "metadata": {
    "azdata_cell_guid": "d4931c0c-2c09-4ee1-95d4-73dd08c2f0a6"
   },
   "source": [
    "## Summarize Your Results\n",
    "\n",
    "With your EDA complete, answer the following questions.\n",
    "\n",
    "1. Was there anything surprising about your dataset?\n",
    "   I don't think I found anything overly surprising. I expected to see a fairly high daily usage rate. The symptoms associated with cell phone use are typical of what I would expect and most people answered \"sometimes\" to symptom frequency. The most beneficial features were also in alignment with my experience with students and cell phone use (camera, notes, internet). I am surprised to not see social media listed. In my work with students, I would argue the number one use for cell phones is social media (TikTok, Instagram, Snap Chat).\n",
    "3. Do you have any concerns about your dataset?\n",
    "   Yes. My dataset is very small. I also don't know where, when, or really how the data was collected. Are the students all from one school? That seems unlikely given the age range. I would also be curious how or why participants were selected. I'm not super thrilled with the questions asked regarding academic performance. I don't think the data that was gathered is really that helpful in looking at cell phone use and academic performance. The questions focus more on health and well-being which is also very important. To look at the impact on academic performance I would want more information on attendance, grades, test scores, study hours, etc. I'm also concerned with the question about gender. There are only two selections offered (female or male) and I feel that the analysis should include an option to not disclose or for those individuals that are non-binary. \n",
    "5. Is there anything you want to make note of for the next phase of your analysis, which is cleaning data?\n",
    "   Just through the exploration the dataset seems pretty clean. It's also again a very small dataset. I know with larger datasets there is more opportunity for dirty data. "
   ]
  }
 ],
 "metadata": {
  "kernelspec": {
   "display_name": "Python 3 (ipykernel)",
   "language": "python",
   "name": "python3"
  },
  "language_info": {
   "codemirror_mode": {
    "name": "ipython",
    "version": 3
   },
   "file_extension": ".py",
   "mimetype": "text/x-python",
   "name": "python",
   "nbconvert_exporter": "python",
   "pygments_lexer": "ipython3",
   "version": "3.12.4"
  }
 },
 "nbformat": 4,
 "nbformat_minor": 4
}
